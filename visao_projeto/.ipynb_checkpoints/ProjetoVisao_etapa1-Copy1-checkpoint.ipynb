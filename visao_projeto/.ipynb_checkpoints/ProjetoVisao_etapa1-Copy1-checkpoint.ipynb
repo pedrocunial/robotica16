{
 "cells": [
  {
   "cell_type": "markdown",
   "metadata": {},
   "source": [
    "# Transformações geométricas - Parte 1 do Projeto de Visão"
   ]
  },
  {
   "cell_type": "markdown",
   "metadata": {},
   "source": [
    "Vamos gerar uma imagem de entrada com algumas coordenadas conhecidas.  Desta seção você só vai precisar das coordenadas dos pontos na imagem de entrada e na imagem de saída"
   ]
  },
  {
   "cell_type": "code",
   "execution_count": 26,
   "metadata": {
    "collapsed": false
   },
   "outputs": [],
   "source": [
    "import matplotlib.pyplot as plt\n",
    "\n",
    "from sympy import Matrix, solve_linear_system\n",
    "\n",
    "from matplotlib import colors\n",
    "\n",
    "import cv2\n",
    "\n",
    "import numpy as np\n",
    "\n",
    "import sympy as sp\n",
    "\n",
    "import scipy\n",
    "\n",
    "import math\n",
    "\n",
    "from sympy import symbols\n",
    "from sympy.core.trace import Tr\n",
    "#from sympy.matrices.matrices import Matrix\n",
    "from IPython.core.display import display_pretty\n",
    "from sympy.printing.latex import *\n",
    "\n",
    "from sympy import init_printing; init_printing()\n",
    "from sympy.interactive import printing\n",
    "#printing.init_printing(use_latex=False) # Use this option if you don't have Latex Installed\n",
    "printing.init_printing(use_latex=True)\n",
    "#printing.init_printing(use_latex=mathjax)\n",
    "\n",
    "\n",
    "from IPython.display import display\n",
    "\n",
    "%matplotlib inline\n",
    "\n",
    "\n",
    "sp_x = 30\n",
    "sp_y = 30\n",
    "x_blocks = 6\n",
    "y_blocks = 6"
   ]
  },
  {
   "cell_type": "code",
   "execution_count": 2,
   "metadata": {
    "collapsed": false
   },
   "outputs": [],
   "source": [
    "# Cria uma imagem RGB  em branco\n",
    "blank = 255*np.ones((sp_x * x_blocks,sp_y*y_blocks,3), np.uint8)"
   ]
  },
  {
   "cell_type": "code",
   "execution_count": 3,
   "metadata": {
    "collapsed": true
   },
   "outputs": [],
   "source": [
    "# Coordenadas de entrada de alguns pontos\n",
    "points = [[1,1],\n",
    "          [5,1],\n",
    "          [1,3],\n",
    "          [3,3],\n",
    "          [5,3],\n",
    "          [1,5],\n",
    "          [5,5]]"
   ]
  },
  {
   "cell_type": "code",
   "execution_count": 4,
   "metadata": {
    "collapsed": true
   },
   "outputs": [],
   "source": [
    "# Cores a usar para os pontos\n",
    "point_colors = ['r', 'g', 'b', 'c', 'm', 'y', 'k']"
   ]
  },
  {
   "cell_type": "markdown",
   "metadata": {},
   "source": [
    "## Coordenadas dos pontos na imagem de entrada\n",
    "\n",
    "Este loop imprime as coordenadas.\n",
    "\n",
    "As cores dos pontos servem para identificá-los"
   ]
  },
  {
   "cell_type": "code",
   "execution_count": 5,
   "metadata": {
    "collapsed": false
   },
   "outputs": [
    {
     "name": "stdout",
     "output_type": "stream",
     "text": [
      "Posição dos pontos: (x_entrada, y_entrada)\n",
      "(30, 30)\n",
      "(150, 30)\n",
      "(30, 90)\n",
      "(90, 90)\n",
      "(150, 90)\n",
      "(30, 150)\n",
      "(150, 150)\n"
     ]
    }
   ],
   "source": [
    "sp_x = 30 # x spacing\n",
    "sp_y = 30 # y spacing\n",
    "point_size = 5\n",
    "print(\"Posição dos pontos: (x_entrada, y_entrada)\")\n",
    "\n",
    "for i in range(len(points)):\n",
    "    point_color = [int(255*canal) for canal in colors.colorConverter.colors[point_colors[i]]]\n",
    "    point_position = (sp_x*points[i][0], sp_y*points[i][1])\n",
    "    print(point_position)\n",
    "    cv2.circle(blank,point_position, point_size, point_color, -1)\n"
   ]
  },
  {
   "cell_type": "markdown",
   "metadata": {},
   "source": [
    "## Imagem de entrada"
   ]
  },
  {
   "cell_type": "code",
   "execution_count": 6,
   "metadata": {
    "collapsed": false
   },
   "outputs": [
    {
     "data": {
      "text/plain": [
       "<matplotlib.image.AxesImage at 0x7f3707ec2dd0>"
      ]
     },
     "execution_count": 6,
     "metadata": {},
     "output_type": "execute_result"
    },
    {
     "data": {
      "image/png": "[encoded data removed]",
      "text/plain": [
       "<matplotlib.figure.Figure at 0x7f3707f4be90>"
      ]
     },
     "metadata": {},
     "output_type": "display_data"
    }
   ],
   "source": [
    "plt.imshow(blank)"
   ]
  },
  {
   "cell_type": "markdown",
   "metadata": {},
   "source": [
    "Se precisar abrir a imagem fora deste *notebook*, use o arquivo `dots_pattern.png`\n"
   ]
  },
  {
   "cell_type": "code",
   "execution_count": 7,
   "metadata": {
    "collapsed": false
   },
   "outputs": [
    {
     "data": {
      "text/plain": [
       "True"
      ]
     },
     "execution_count": 7,
     "metadata": {},
     "output_type": "execute_result"
    }
   ],
   "source": [
    "cv2.imwrite(\"dots_pattern.png\", blank)"
   ]
  },
  {
   "cell_type": "markdown",
   "metadata": {},
   "source": [
    "## Padrão de saída\n",
    "\n",
    "Foi aplicada uma transformação à imagem de entrada, que gerou o seguinte padrão de saída:"
   ]
  },
  {
   "cell_type": "code",
   "execution_count": 8,
   "metadata": {
    "collapsed": false
   },
   "outputs": [],
   "source": [
    "saida = cv2.imread(\"patterns_transformed.png\")"
   ]
  },
  {
   "cell_type": "code",
   "execution_count": 9,
   "metadata": {
    "collapsed": false,
    "scrolled": true
   },
   "outputs": [
    {
     "data": {
      "text/plain": [
       "<matplotlib.image.AxesImage at 0x7f3707cea290>"
      ]
     },
     "execution_count": 9,
     "metadata": {},
     "output_type": "execute_result"
    },
    {
     "data": {
      "image/png": "[encoded data removed]",
      "text/plain": [
       "<matplotlib.figure.Figure at 0x7f3707f04050>"
      ]
     },
     "metadata": {},
     "output_type": "display_data"
    }
   ],
   "source": [
    "plt.imshow(saida)"
   ]
  },
  {
   "cell_type": "markdown",
   "metadata": {},
   "source": [
    "Sabe-se que a imagem de saída é igual a uma combinação de rotações em torno de um ponto arbitrário e  redimensionamentos (escala) da imagem de entrada. Para simplificar, assuma que o redimensionamento é igual nos eixos $x$ e $y$\n",
    "\n",
    "Cada ponto da imagem de saída está relacionado à sua posição na imagem de entrada pela seguinte transformação:\n",
    "\n",
    "$$\n",
    "\\begin{pmatrix}\n",
    "x_{saida} \\\\\n",
    "y_{saida} \\\\\n",
    "1\n",
    "\\end{pmatrix}\n",
    " = \n",
    "\\begin{pmatrix}\n",
    "   \\alpha &\\beta &(1-\\alpha \\cdot center.x - \\beta \\cdot center.y) \\\\\n",
    "   -\\beta & \\alpha & \\beta \\cdot center.x + (1 - \\alpha \\cdot center.y) \\\\ 0 & 0 & 1\n",
    "\\end{pmatrix} \\cdot \\begin{pmatrix} x_{entrada} \\\\ y_{entrada} \\\\ 1 \\end{pmatrix} \n",
    "$$\n",
    "\n",
    "Na equação acima:\n",
    "\n",
    "$\\alpha = escala \\cdot \\cos(\\theta)$ \n",
    "\n",
    "$\\beta = escala \\cdot \\sin(\\theta) $ \n",
    "\n",
    "$x_{entrada}$ é a posição $x$ de cada pixel na imagem de entrada\n",
    "\n",
    "$y_{entrada}$ é a posição $y$ de cada pixel na imagem de entrada\n",
    "\n",
    "$center$ é o centro de rotação\n",
    "\n",
    "$x_{saída}$ é a coordenada $x$ do pixel na imagem de saída\n",
    "\n",
    "$y_{saída}$ é a coordenada $y$ do pixel na imagem de saída\n",
    "\n",
    "\n"
   ]
  },
  {
   "cell_type": "code",
   "execution_count": null,
   "metadata": {
    "collapsed": false
   },
   "outputs": [],
   "source": []
  },
  {
   "cell_type": "markdown",
   "metadata": {},
   "source": [
    "# Atividade 1\n",
    "\n",
    "Responda (no IPython Notebook): \n",
    "\n",
    "1. Quantos graus de liberdade (variáveis) determinam a transformação acima?\n",
    "\n",
    "2. Supondo que a transformação aplicada para transformar a imagem de entrada na imagem do arquivo `patterns_transformed.png` é desconhecida, é possível descobrir qual é esta transformação? Como?\n",
    "\n",
    "3. Crie uma tabela para os 7 pontos de entrada fornecidos em que constem quais suas posições na imagem de entrada e depois quais suas posições após transformados, na imagem de saída.\n",
    "\n",
    "4. Considerando o número de variáveis da matriz de transformação fornecida, de quantas correspondências $p_{entrada} \\Rightarrow p_{saida}$ você precisa para descobrir qual é a matriz?\n",
    "\n",
    "5. Por que poderia ser útil usar **mais** correspondências do que a resposta que você deu no item anterior?\n",
    "\n",
    "6. Expanda a equação da transformação usando os pontos de entrada e saída de sua tabela até ter um sistema sobredeterminado. <font color=red> Reserve pelo menos 1 hora para esta atividade - trabalhoso </font>. Talvez você ache útil aprender a usar um *Computer Algebra System* para fazer isso, por exemplo o Sympy ou o Maxima.\n",
    "\n",
    "7. A partir do sistema sobredeterminado que você encontrou no item anterior, resolva e estime qual é a transformação que foi usada para converter a imagem de entrada na imagem de saída. Você pode usar o método de *Least Squares* que está presente no *Scipy* ou o *RANSAC* da OpenCV, por exemplo.\n",
    "\n",
    "8. Aplique a transformação à imagem de entrada e verifique se o resultado que obteve se assemelha à imagem de saída. A função da OpenCV que permite que você faça isso é a *cv2.warpAffine()* "
   ]
  },
  {
   "cell_type": "markdown",
   "metadata": {},
   "source": [
    "## Referências\n",
    "\n",
    "[http://docs.opencv.org/3.1.0/da/d6e/tutorial_py_geometric_transformations.html#gsc.tab=0](http://docs.opencv.org/3.1.0/da/d6e/tutorial_py_geometric_transformations.html#gsc.tab=0)\n",
    "\n"
   ]
  },
  {
   "cell_type": "markdown",
   "metadata": {},
   "source": [
    "1) Existem 4 graus de liberdade: x, y, escala e rotação $(\\theta).$\n",
    "\n",
    "2) Sabendo a imagem inicial e a final, podemos chegar na matriz de transformação utilizando a fórmula:\n",
    "\n",
    "$$\n",
    "\\begin{pmatrix}\n",
    "x_{saida} \\\\\n",
    "y_{saida} \\\\\n",
    "1\n",
    "\\end{pmatrix}\n",
    " = \n",
    "\\begin{pmatrix}\n",
    "   \\alpha &\\beta &(1-\\alpha \\cdot center.x - \\beta \\cdot center.y) \\\\\n",
    "   -\\beta & \\alpha & \\beta \\cdot center.x + (1 - \\alpha \\cdot center.y) \\\\ 0 & 0 & 1\n",
    "\\end{pmatrix} \\cdot \\begin{pmatrix} x_{entrada} \\\\ y_{entrada} \\\\ 1 \\end{pmatrix} \n",
    "$$\n",
    "\n",
    "3)\n",
    "\n",
    "| posição original  | posição nova  |\n",
    "|---        |---         |\n",
    "| (30, 30)  | (138, 95)  |\n",
    "| (150, 30) | (249, 140) |\n",
    "| (30, 90)  | (115, 150) |\n",
    "| (90, 90)  | (170, 174) |\n",
    "| (150, 90) | (226, 196) |\n",
    "| (30, 150) | (92, 206)  |\n",
    "| (150, 150)| (203, 252) |\n",
    "\n",
    "\n",
    "\n",
    "4) Não seria necessário mais do que dois pontos, no entanto, dada a incerteza de medida, é preferível lidar com mais valores, tendendo ao valor verdadeiro da matriz de transformação ao estudarmos este erro pelo método dos mínimos quadrados (MMQ).\n",
    "\n",
    "\n",
    "5) Como explicado no anterior, somente dois valores não seria preciso o suficiente para garantir que a transformação encontrada seria exatamente esta. Assim, quanto mais valores estudados, melhor pode-se aproximar da matriz de transformação original."
   ]
  },
  {
   "cell_type": "code",
   "execution_count": 10,
   "metadata": {
    "collapsed": false
   },
   "outputs": [
    {
     "data": {
      "text/latex": [
       "$$\\left[\\begin{matrix}\\alpha & \\beta & - \\alpha c - \\beta d + 1\\\\- \\beta & \\alpha & - \\alpha d + \\beta c + 1\\\\0 & 0 & 1\\end{matrix}\\right]$$"
      ],
      "text/plain": [
       "⎡α   β  -α⋅c - β⋅d + 1⎤\n",
       "⎢                     ⎥\n",
       "⎢-β  α  -α⋅d + β⋅c + 1⎥\n",
       "⎢                     ⎥\n",
       "⎣0   0        1       ⎦"
      ]
     },
     "execution_count": 10,
     "metadata": {},
     "output_type": "execute_result"
    }
   ],
   "source": [
    "posicoes_iniciais =  [[30 ,  30],\n",
    "                      [150,  30],\n",
    "                      [30 ,  90],\n",
    "                      [90 ,  90],\n",
    "                      [150,  90],\n",
    "                      [30 , 150],\n",
    "                      [150, 150]]\n",
    "\n",
    "posicoes_finais = [[138, 95 ],\n",
    "                   [249, 140],\n",
    "                   [115, 150],\n",
    "                   [170, 174],\n",
    "                   [226, 196],\n",
    "                   [92 , 206],\n",
    "                   [203, 252]]\n",
    "\n",
    "# c = center.x --> x do centro de rotacao\n",
    "# d = center.y --> y do centro de rotacao\n",
    "\n",
    "alpha = sp.symbols(\"alpha\")\n",
    "beta = sp.symbols(\"beta\")\n",
    "c = sp.symbols(\"c\")\n",
    "d = sp.symbols(\"d\")\n",
    "\n",
    "matriz_transformacao = ([alpha, beta, (1 - alpha * c - beta * d)], [-beta, alpha, (beta * c + (1 - alpha * d))], [0, 0, 1])\n",
    "\n",
    "M = Matrix(matriz_transformacao)\n",
    "M"
   ]
  },
  {
   "cell_type": "code",
   "execution_count": 11,
   "metadata": {
    "collapsed": false
   },
   "outputs": [
    {
     "data": {
      "text/latex": [
       "$$\\left[\\begin{matrix}\\alpha & \\beta & t_{x}\\\\- \\beta & \\alpha & t_{y}\\\\0 & 0 & 1\\end{matrix}\\right]$$"
      ],
      "text/plain": [
       "⎡α   β  tₓ ⎤\n",
       "⎢          ⎥\n",
       "⎢-β  α  t_y⎥\n",
       "⎢          ⎥\n",
       "⎣0   0   1 ⎦"
      ]
     },
     "execution_count": 11,
     "metadata": {},
     "output_type": "execute_result"
    }
   ],
   "source": [
    "tx = sp.symbols(\"t_x\")\n",
    "ty = sp.symbols(\"t_y\")\n",
    "\n",
    "## Criação da matriz de transformação de maneira simplificada\n",
    "M2 = Matrix([[alpha, beta, tx], [-beta, alpha, ty], [0, 0, 1]])\n",
    "M2"
   ]
  },
  {
   "cell_type": "code",
   "execution_count": 12,
   "metadata": {
    "collapsed": false
   },
   "outputs": [
    {
     "name": "stdout",
     "output_type": "stream",
     "text": [
      "Equations of the overdetermined system\n"
     ]
    },
    {
     "data": {
      "image/png": "[encoded data removed]",
      "text/latex": [
       "$$30 \\alpha + 30 \\beta + t_{x} - 138$$"
      ],
      "text/plain": [
       "30⋅α + 30⋅β + tₓ - 138"
      ]
     },
     "metadata": {},
     "output_type": "display_data"
    },
    {
     "data": {
      "image/png": "[encoded data removed]",
      "text/latex": [
       "$$30 \\alpha - 30 \\beta + t_{y} - 95$$"
      ],
      "text/plain": [
       "30⋅α - 30⋅β + t_y - 95"
      ]
     },
     "metadata": {},
     "output_type": "display_data"
    },
    {
     "data": {
      "image/png": "[encoded data removed]",
      "text/latex": [
       "$$150 \\alpha + 30 \\beta + t_{x} - 249$$"
      ],
      "text/plain": [
       "150⋅α + 30⋅β + tₓ - 249"
      ]
     },
     "metadata": {},
     "output_type": "display_data"
    },
    {
     "data": {
      "image/png": "[encoded data removed]",
      "text/latex": [
       "$$30 \\alpha - 150 \\beta + t_{y} - 140$$"
      ],
      "text/plain": [
       "30⋅α - 150⋅β + t_y - 140"
      ]
     },
     "metadata": {},
     "output_type": "display_data"
    },
    {
     "data": {
      "image/png": "[encoded data removed]",
      "text/latex": [
       "$$30 \\alpha + 90 \\beta + t_{x} - 115$$"
      ],
      "text/plain": [
       "30⋅α + 90⋅β + tₓ - 115"
      ]
     },
     "metadata": {},
     "output_type": "display_data"
    },
    {
     "data": {
      "image/png": "[encoded data removed]",
      "text/latex": [
       "$$90 \\alpha - 30 \\beta + t_{y} - 150$$"
      ],
      "text/plain": [
       "90⋅α - 30⋅β + t_y - 150"
      ]
     },
     "metadata": {},
     "output_type": "display_data"
    },
    {
     "data": {
      "image/png": "[encoded data removed]",
      "text/latex": [
       "$$90 \\alpha + 90 \\beta + t_{x} - 170$$"
      ],
      "text/plain": [
       "90⋅α + 90⋅β + tₓ - 170"
      ]
     },
     "metadata": {},
     "output_type": "display_data"
    },
    {
     "data": {
      "image/png": "[encoded data removed]",
      "text/latex": [
       "$$90 \\alpha - 90 \\beta + t_{y} - 174$$"
      ],
      "text/plain": [
       "90⋅α - 90⋅β + t_y - 174"
      ]
     },
     "metadata": {},
     "output_type": "display_data"
    },
    {
     "data": {
      "image/png": "[encoded data removed]",
      "text/latex": [
       "$$150 \\alpha + 90 \\beta + t_{x} - 226$$"
      ],
      "text/plain": [
       "150⋅α + 90⋅β + tₓ - 226"
      ]
     },
     "metadata": {},
     "output_type": "display_data"
    },
    {
     "data": {
      "image/png": "[encoded data removed]",
      "text/latex": [
       "$$90 \\alpha - 150 \\beta + t_{y} - 196$$"
      ],
      "text/plain": [
       "90⋅α - 150⋅β + t_y - 196"
      ]
     },
     "metadata": {},
     "output_type": "display_data"
    },
    {
     "data": {
      "image/png": "[encoded data removed]",
      "text/latex": [
       "$$30 \\alpha + 150 \\beta + t_{x} - 92$$"
      ],
      "text/plain": [
       "30⋅α + 150⋅β + tₓ - 92"
      ]
     },
     "metadata": {},
     "output_type": "display_data"
    },
    {
     "data": {
      "image/png": "[encoded data removed]",
      "text/latex": [
       "$$150 \\alpha - 30 \\beta + t_{y} - 206$$"
      ],
      "text/plain": [
       "150⋅α - 30⋅β + t_y - 206"
      ]
     },
     "metadata": {},
     "output_type": "display_data"
    },
    {
     "data": {
      "image/png": "[encoded data removed]",
      "text/latex": [
       "$$150 \\alpha + 150 \\beta + t_{x} - 203$$"
      ],
      "text/plain": [
       "150⋅α + 150⋅β + tₓ - 203"
      ]
     },
     "metadata": {},
     "output_type": "display_data"
    },
    {
     "data": {
      "image/png": "[encoded data removed]",
      "text/latex": [
       "$$150 \\alpha - 150 \\beta + t_{y} - 252$$"
      ],
      "text/plain": [
       "150⋅α - 150⋅β + t_y - 252"
      ]
     },
     "metadata": {},
     "output_type": "display_data"
    }
   ],
   "source": [
    "def make_column_point(x, y):\n",
    "    return sp.Matrix([[x],[y],[1]])\n",
    "\n",
    "\n",
    "## Criação de muitos pontos. Vamos fazer com pontos o suficiente para o sistema ser sobredeterminado\n",
    "\n",
    "# Pontos na entrada\n",
    "x0, y0, x1, y1, x2, y2, x3, y3, x4, y4, x5, y5 = sp.symbols(\"x_0, y_0, x_1, y_1, x_2, y_2, x_3, y_3, x_4, y_4, x_5, y_5\")\n",
    "\n",
    "points_entrada = []\n",
    "\n",
    "for ponto in posicoes_iniciais:\n",
    "    points_entrada.append(make_column_point(ponto[0], ponto[1]))\n",
    "    \n",
    "\n",
    "# Pontos na saida\n",
    "xs0, ys0, xs1, ys1, xs2, ys2, xs3, ys3, xs4, ys4, xs5, ys5 = sp.symbols(\"x_s0, y_s0, x_s1, y_s1, x_s2, y_s2, x_s3, y_s3, x_s4, y_s4, x_s5, y_s5\")\n",
    "\n",
    "points_saida = []\n",
    "\n",
    "for ponto in posicoes_finais:\n",
    "    points_saida.append(make_column_point(ponto[0], ponto[1]))\n",
    "\n",
    "equations = []\n",
    "system_eq = [] # Sistema de equações supondo =0\n",
    "left_side = [] # Lado esquerdo do sistema\n",
    "\n",
    "for p in points_entrada:\n",
    "    produto = M2*p\n",
    "    equations.append(produto)\n",
    "\n",
    "print(\"Equations of the overdetermined system\")\n",
    "    \n",
    "for i in range(len(equations)):\n",
    "    for j in range(len(equations[i][:-1])): # -1 excludes the homogeneous coordinate (extra 1 at the end)\n",
    "        eq = equations[i][j]-points_saida[i][j]\n",
    "        left_side.append(equations[i][j])\n",
    "        system_eq.append(eq)\n",
    "\n",
    "        \n",
    "for equation in system_eq:\n",
    "    display(equation)"
   ]
  },
  {
   "cell_type": "code",
   "execution_count": 13,
   "metadata": {
    "collapsed": false
   },
   "outputs": [
    {
     "data": {
      "image/png": "[encoded data removed]",
      "text/latex": [
       "$$30 \\alpha + 30 \\beta + t_{x}$$"
      ],
      "text/plain": [
       "30⋅α + 30⋅β + tₓ"
      ]
     },
     "metadata": {},
     "output_type": "display_data"
    },
    {
     "data": {
      "image/png": "[encoded data removed]",
      "text/latex": [
       "$$30 \\alpha - 30 \\beta + t_{y}$$"
      ],
      "text/plain": [
       "30⋅α - 30⋅β + t_y"
      ]
     },
     "metadata": {},
     "output_type": "display_data"
    },
    {
     "data": {
      "image/png": "[encoded data removed]",
      "text/latex": [
       "$$150 \\alpha + 30 \\beta + t_{x}$$"
      ],
      "text/plain": [
       "150⋅α + 30⋅β + tₓ"
      ]
     },
     "metadata": {},
     "output_type": "display_data"
    },
    {
     "data": {
      "image/png": "[encoded data removed]",
      "text/latex": [
       "$$30 \\alpha - 150 \\beta + t_{y}$$"
      ],
      "text/plain": [
       "30⋅α - 150⋅β + t_y"
      ]
     },
     "metadata": {},
     "output_type": "display_data"
    },
    {
     "data": {
      "image/png": "[encoded data removed]",
      "text/latex": [
       "$$30 \\alpha + 90 \\beta + t_{x}$$"
      ],
      "text/plain": [
       "30⋅α + 90⋅β + tₓ"
      ]
     },
     "metadata": {},
     "output_type": "display_data"
    },
    {
     "data": {
      "image/png": "[encoded data removed]",
      "text/latex": [
       "$$90 \\alpha - 30 \\beta + t_{y}$$"
      ],
      "text/plain": [
       "90⋅α - 30⋅β + t_y"
      ]
     },
     "metadata": {},
     "output_type": "display_data"
    },
    {
     "data": {
      "image/png": "[encoded data removed]",
      "text/latex": [
       "$$90 \\alpha + 90 \\beta + t_{x}$$"
      ],
      "text/plain": [
       "90⋅α + 90⋅β + tₓ"
      ]
     },
     "metadata": {},
     "output_type": "display_data"
    },
    {
     "data": {
      "image/png": "[encoded data removed]",
      "text/latex": [
       "$$90 \\alpha - 90 \\beta + t_{y}$$"
      ],
      "text/plain": [
       "90⋅α - 90⋅β + t_y"
      ]
     },
     "metadata": {},
     "output_type": "display_data"
    },
    {
     "data": {
      "image/png": "[encoded data removed]",
      "text/latex": [
       "$$150 \\alpha + 90 \\beta + t_{x}$$"
      ],
      "text/plain": [
       "150⋅α + 90⋅β + tₓ"
      ]
     },
     "metadata": {},
     "output_type": "display_data"
    },
    {
     "data": {
      "image/png": "[encoded data removed]",
      "text/latex": [
       "$$90 \\alpha - 150 \\beta + t_{y}$$"
      ],
      "text/plain": [
       "90⋅α - 150⋅β + t_y"
      ]
     },
     "metadata": {},
     "output_type": "display_data"
    },
    {
     "data": {
      "image/png": "[encoded data removed]",
      "text/latex": [
       "$$30 \\alpha + 150 \\beta + t_{x}$$"
      ],
      "text/plain": [
       "30⋅α + 150⋅β + tₓ"
      ]
     },
     "metadata": {},
     "output_type": "display_data"
    },
    {
     "data": {
      "image/png": "[encoded data removed]",
      "text/latex": [
       "$$150 \\alpha - 30 \\beta + t_{y}$$"
      ],
      "text/plain": [
       "150⋅α - 30⋅β + t_y"
      ]
     },
     "metadata": {},
     "output_type": "display_data"
    },
    {
     "data": {
      "image/png": "[encoded data removed]",
      "text/latex": [
       "$$150 \\alpha + 150 \\beta + t_{x}$$"
      ],
      "text/plain": [
       "150⋅α + 150⋅β + tₓ"
      ]
     },
     "metadata": {},
     "output_type": "display_data"
    },
    {
     "data": {
      "image/png": "[encoded data removed]",
      "text/latex": [
       "$$150 \\alpha - 150 \\beta + t_{y}$$"
      ],
      "text/plain": [
       "150⋅α - 150⋅β + t_y"
      ]
     },
     "metadata": {},
     "output_type": "display_data"
    }
   ],
   "source": [
    "for eq in left_side:\n",
    "    display(eq)"
   ]
  },
  {
   "cell_type": "code",
   "execution_count": 14,
   "metadata": {
    "collapsed": false
   },
   "outputs": [
    {
     "data": {
      "text/latex": [
       "$$\\left [ \\left[\\begin{matrix}30\\\\30\\\\1\\end{matrix}\\right], \\quad \\left[\\begin{matrix}150\\\\30\\\\1\\end{matrix}\\right], \\quad \\left[\\begin{matrix}30\\\\90\\\\1\\end{matrix}\\right], \\quad \\left[\\begin{matrix}90\\\\90\\\\1\\end{matrix}\\right], \\quad \\left[\\begin{matrix}150\\\\90\\\\1\\end{matrix}\\right], \\quad \\left[\\begin{matrix}30\\\\150\\\\1\\end{matrix}\\right], \\quad \\left[\\begin{matrix}150\\\\150\\\\1\\end{matrix}\\right]\\right ]$$"
      ],
      "text/plain": [
       "⎡⎡30⎤, ⎡150⎤, ⎡30⎤, ⎡90⎤, ⎡150⎤, ⎡30 ⎤, ⎡150⎤⎤\n",
       "⎢⎢  ⎥  ⎢   ⎥  ⎢  ⎥  ⎢  ⎥  ⎢   ⎥  ⎢   ⎥  ⎢   ⎥⎥\n",
       "⎢⎢30⎥  ⎢30 ⎥  ⎢90⎥  ⎢90⎥  ⎢90 ⎥  ⎢150⎥  ⎢150⎥⎥\n",
       "⎢⎢  ⎥  ⎢   ⎥  ⎢  ⎥  ⎢  ⎥  ⎢   ⎥  ⎢   ⎥  ⎢   ⎥⎥\n",
       "⎣⎣1 ⎦  ⎣ 1 ⎦  ⎣1 ⎦  ⎣1 ⎦  ⎣ 1 ⎦  ⎣ 1 ⎦  ⎣ 1 ⎦⎦"
      ]
     },
     "execution_count": 14,
     "metadata": {},
     "output_type": "execute_result"
    }
   ],
   "source": [
    "points_entrada"
   ]
  },
  {
   "cell_type": "code",
   "execution_count": 15,
   "metadata": {
    "collapsed": false
   },
   "outputs": [
    {
     "data": {
      "text/latex": [
       "$$\\left [ \\left[\\begin{matrix}138\\\\95\\\\1\\end{matrix}\\right], \\quad \\left[\\begin{matrix}249\\\\140\\\\1\\end{matrix}\\right], \\quad \\left[\\begin{matrix}115\\\\150\\\\1\\end{matrix}\\right], \\quad \\left[\\begin{matrix}170\\\\174\\\\1\\end{matrix}\\right], \\quad \\left[\\begin{matrix}226\\\\196\\\\1\\end{matrix}\\right], \\quad \\left[\\begin{matrix}92\\\\206\\\\1\\end{matrix}\\right], \\quad \\left[\\begin{matrix}203\\\\252\\\\1\\end{matrix}\\right]\\right ]$$"
      ],
      "text/plain": [
       "⎡⎡138⎤, ⎡249⎤, ⎡115⎤, ⎡170⎤, ⎡226⎤, ⎡92 ⎤, ⎡203⎤⎤\n",
       "⎢⎢   ⎥  ⎢   ⎥  ⎢   ⎥  ⎢   ⎥  ⎢   ⎥  ⎢   ⎥  ⎢   ⎥⎥\n",
       "⎢⎢95 ⎥  ⎢140⎥  ⎢150⎥  ⎢174⎥  ⎢196⎥  ⎢206⎥  ⎢252⎥⎥\n",
       "⎢⎢   ⎥  ⎢   ⎥  ⎢   ⎥  ⎢   ⎥  ⎢   ⎥  ⎢   ⎥  ⎢   ⎥⎥\n",
       "⎣⎣ 1 ⎦  ⎣ 1 ⎦  ⎣ 1 ⎦  ⎣ 1 ⎦  ⎣ 1 ⎦  ⎣ 1 ⎦  ⎣ 1 ⎦⎦"
      ]
     },
     "execution_count": 15,
     "metadata": {},
     "output_type": "execute_result"
    }
   ],
   "source": [
    "points_saida"
   ]
  },
  {
   "cell_type": "code",
   "execution_count": 16,
   "metadata": {
    "collapsed": false,
    "scrolled": true
   },
   "outputs": [
    {
     "data": {
      "text/latex": [
       "$$\\left[\\begin{matrix}\\alpha\\\\\\beta\\\\t_{x}\\\\t_{y}\\end{matrix}\\right]$$"
      ],
      "text/plain": [
       "⎡ α ⎤\n",
       "⎢   ⎥\n",
       "⎢ β ⎥\n",
       "⎢   ⎥\n",
       "⎢tₓ ⎥\n",
       "⎢   ⎥\n",
       "⎣t_y⎦"
      ]
     },
     "execution_count": 16,
     "metadata": {},
     "output_type": "execute_result"
    }
   ],
   "source": [
    "variaveis = Matrix([alpha, beta, tx, ty])\n",
    "variaveis"
   ]
  },
  {
   "cell_type": "code",
   "execution_count": 17,
   "metadata": {
    "collapsed": false
   },
   "outputs": [
    {
     "data": {
      "text/plain": [
       "'1.0'"
      ]
     },
     "execution_count": 17,
     "metadata": {},
     "output_type": "execute_result"
    }
   ],
   "source": [
    "sp.__version__"
   ]
  },
  {
   "cell_type": "code",
   "execution_count": 18,
   "metadata": {
    "collapsed": false
   },
   "outputs": [
    {
     "data": {
      "image/png": "[encoded data removed]",
      "text/latex": [
       "$$\\left \\{ \\alpha : 0, \\quad \\beta : 0, \\quad t_{x} : 0, \\quad t_{y} : 0\\right \\}$$"
      ],
      "text/plain": [
       "{α: 0, β: 0, tₓ: 0, t_y: 0}"
      ]
     },
     "execution_count": 18,
     "metadata": {},
     "output_type": "execute_result"
    }
   ],
   "source": [
    "ans = sp.solve(left_side, alpha, beta, tx, ty)\n",
    "\n",
    "ans"
   ]
  },
  {
   "cell_type": "markdown",
   "metadata": {
    "collapsed": true
   },
   "source": [
    "Pela documentação do Sympy, pude perceber que devemos entrar com um sistema com igualdades já estabelecida; Esta igualdade será representada de acordo com a ordem dos parâmetros da matriz de parâmetros, e os valores os fatores que os multiplicam em cada uma das equações. O último valor da lista será o valor que a equação \"é igual a\""
   ]
  },
  {
   "cell_type": "code",
   "execution_count": 19,
   "metadata": {
    "collapsed": false
   },
   "outputs": [
    {
     "data": {
      "image/png": "[encoded data removed]",
      "text/latex": [
       "$$30 \\alpha + 30 \\beta + t_{x} - 138$$"
      ],
      "text/plain": [
       "30⋅α + 30⋅β + tₓ - 138"
      ]
     },
     "metadata": {},
     "output_type": "display_data"
    },
    {
     "data": {
      "image/png": "[encoded data removed]",
      "text/latex": [
       "$$30 \\alpha - 30 \\beta + t_{y} - 95$$"
      ],
      "text/plain": [
       "30⋅α - 30⋅β + t_y - 95"
      ]
     },
     "metadata": {},
     "output_type": "display_data"
    },
    {
     "data": {
      "image/png": "[encoded data removed]",
      "text/latex": [
       "$$150 \\alpha + 30 \\beta + t_{x} - 249$$"
      ],
      "text/plain": [
       "150⋅α + 30⋅β + tₓ - 249"
      ]
     },
     "metadata": {},
     "output_type": "display_data"
    },
    {
     "data": {
      "image/png": "[encoded data removed]",
      "text/latex": [
       "$$30 \\alpha - 150 \\beta + t_{y} - 140$$"
      ],
      "text/plain": [
       "30⋅α - 150⋅β + t_y - 140"
      ]
     },
     "metadata": {},
     "output_type": "display_data"
    },
    {
     "data": {
      "image/png": "[encoded data removed]",
      "text/latex": [
       "$$30 \\alpha + 90 \\beta + t_{x} - 115$$"
      ],
      "text/plain": [
       "30⋅α + 90⋅β + tₓ - 115"
      ]
     },
     "metadata": {},
     "output_type": "display_data"
    },
    {
     "data": {
      "image/png": "[encoded data removed]",
      "text/latex": [
       "$$90 \\alpha - 30 \\beta + t_{y} - 150$$"
      ],
      "text/plain": [
       "90⋅α - 30⋅β + t_y - 150"
      ]
     },
     "metadata": {},
     "output_type": "display_data"
    },
    {
     "data": {
      "image/png": "[encoded data removed]",
      "text/latex": [
       "$$90 \\alpha + 90 \\beta + t_{x} - 170$$"
      ],
      "text/plain": [
       "90⋅α + 90⋅β + tₓ - 170"
      ]
     },
     "metadata": {},
     "output_type": "display_data"
    },
    {
     "data": {
      "image/png": "[encoded data removed]",
      "text/latex": [
       "$$90 \\alpha - 90 \\beta + t_{y} - 174$$"
      ],
      "text/plain": [
       "90⋅α - 90⋅β + t_y - 174"
      ]
     },
     "metadata": {},
     "output_type": "display_data"
    },
    {
     "data": {
      "image/png": "[encoded data removed]",
      "text/latex": [
       "$$150 \\alpha + 90 \\beta + t_{x} - 226$$"
      ],
      "text/plain": [
       "150⋅α + 90⋅β + tₓ - 226"
      ]
     },
     "metadata": {},
     "output_type": "display_data"
    },
    {
     "data": {
      "image/png": "[encoded data removed]",
      "text/latex": [
       "$$90 \\alpha - 150 \\beta + t_{y} - 196$$"
      ],
      "text/plain": [
       "90⋅α - 150⋅β + t_y - 196"
      ]
     },
     "metadata": {},
     "output_type": "display_data"
    },
    {
     "data": {
      "image/png": "[encoded data removed]",
      "text/latex": [
       "$$30 \\alpha + 150 \\beta + t_{x} - 92$$"
      ],
      "text/plain": [
       "30⋅α + 150⋅β + tₓ - 92"
      ]
     },
     "metadata": {},
     "output_type": "display_data"
    },
    {
     "data": {
      "image/png": "[encoded data removed]",
      "text/latex": [
       "$$150 \\alpha - 30 \\beta + t_{y} - 206$$"
      ],
      "text/plain": [
       "150⋅α - 30⋅β + t_y - 206"
      ]
     },
     "metadata": {},
     "output_type": "display_data"
    },
    {
     "data": {
      "image/png": "[encoded data removed]",
      "text/latex": [
       "$$150 \\alpha + 150 \\beta + t_{x} - 203$$"
      ],
      "text/plain": [
       "150⋅α + 150⋅β + tₓ - 203"
      ]
     },
     "metadata": {},
     "output_type": "display_data"
    },
    {
     "data": {
      "image/png": "[encoded data removed]",
      "text/latex": [
       "$$150 \\alpha - 150 \\beta + t_{y} - 252$$"
      ],
      "text/plain": [
       "150⋅α - 150⋅β + t_y - 252"
      ]
     },
     "metadata": {},
     "output_type": "display_data"
    }
   ],
   "source": [
    "for eq in system_eq:\n",
    "    display(eq)"
   ]
  },
  {
   "cell_type": "code",
   "execution_count": null,
   "metadata": {
    "collapsed": false
   },
   "outputs": [],
   "source": []
  },
  {
   "cell_type": "code",
   "execution_count": 20,
   "metadata": {
    "collapsed": false
   },
   "outputs": [
    {
     "data": {
      "text/latex": [
       "$$\\left[\\begin{matrix}30 & 30 & 1 & 0 & 138\\\\30 & -30 & 0 & 1 & 95\\\\150 & 30 & 1 & 0 & 249\\\\30 & -150 & 0 & 1 & 140\\\\30 & 90 & 1 & 0 & 115\\\\90 & -30 & 0 & 1 & 150\\\\90 & 90 & 1 & 0 & 170\\\\90 & -90 & 0 & 1 & 174\\\\150 & 90 & 1 & 0 & 226\\\\90 & 150 & 0 & 1 & 196\\\\30 & 150 & 1 & 0 & 92\\\\150 & -30 & 0 & 1 & 206\\\\150 & 150 & 1 & 0 & 203\\\\150 & -150 & 0 & 1 & 252\\end{matrix}\\right]$$"
      ],
      "text/plain": [
       "⎡30    30   1  0  138⎤\n",
       "⎢                    ⎥\n",
       "⎢30   -30   0  1  95 ⎥\n",
       "⎢                    ⎥\n",
       "⎢150   30   1  0  249⎥\n",
       "⎢                    ⎥\n",
       "⎢30   -150  0  1  140⎥\n",
       "⎢                    ⎥\n",
       "⎢30    90   1  0  115⎥\n",
       "⎢                    ⎥\n",
       "⎢90   -30   0  1  150⎥\n",
       "⎢                    ⎥\n",
       "⎢90    90   1  0  170⎥\n",
       "⎢                    ⎥\n",
       "⎢90   -90   0  1  174⎥\n",
       "⎢                    ⎥\n",
       "⎢150   90   1  0  226⎥\n",
       "⎢                    ⎥\n",
       "⎢90   150   0  1  196⎥\n",
       "⎢                    ⎥\n",
       "⎢30   150   1  0  92 ⎥\n",
       "⎢                    ⎥\n",
       "⎢150  -30   0  1  206⎥\n",
       "⎢                    ⎥\n",
       "⎢150  150   1  0  203⎥\n",
       "⎢                    ⎥\n",
       "⎣150  -150  0  1  252⎦"
      ]
     },
     "execution_count": 20,
     "metadata": {},
     "output_type": "execute_result"
    }
   ],
   "source": [
    "equacoes = Matrix(([30, 30, 1, 0, 138],\n",
    "                 [30, -30, 0, 1, 95],\n",
    "                 [150, 30, 1, 0, 249],\n",
    "                 [30, -150, 0, 1, 140],\n",
    "                 [30, 90, 1, 0, 115],\n",
    "                 [90, -30, 0, 1, 150],\n",
    "                 [90, 90, 1, 0, 170],\n",
    "                 [90, -90, 0, 1, 174],\n",
    "                 [150, 90, 1, 0, 226],\n",
    "                 [90, 150, 0, 1, 196],\n",
    "                 [30, 150, 1, 0, 92],\n",
    "                 [150, -30, 0, 1, 206],\n",
    "                 [150, 150, 1, 0, 203],\n",
    "                 [150, -150, 0, 1, 252]))\n",
    "\n",
    "equacoes"
   ]
  },
  {
   "cell_type": "code",
   "execution_count": 21,
   "metadata": {
    "collapsed": false
   },
   "outputs": [
    {
     "data": {
      "image/png": "[encoded data removed]",
      "text/latex": [
       "$$\\left \\{ \\alpha : \\frac{37}{40}, \\quad \\beta : - \\frac{3}{8}, \\quad t_{x} : \\frac{243}{2}, \\quad t_{y} : 56\\right \\}$$"
      ],
      "text/plain": [
       "⎧   37                             ⎫\n",
       "⎨α: ──, β: -3/8, tₓ: 243/2, t_y: 56⎬\n",
       "⎩   40                             ⎭"
      ]
     },
     "execution_count": 21,
     "metadata": {},
     "output_type": "execute_result"
    }
   ],
   "source": [
    "ans = solve_linear_system(Matrix([equacoes.row(0), equacoes.row(1), equacoes.row(2), equacoes.row(3)]), alpha, beta, tx, ty)\n",
    "ans"
   ]
  },
  {
   "cell_type": "code",
   "execution_count": 22,
   "metadata": {
    "collapsed": false
   },
   "outputs": [
    {
     "data": {
      "text/plain": [
       "'1.0'"
      ]
     },
     "execution_count": 22,
     "metadata": {},
     "output_type": "execute_result"
    }
   ],
   "source": [
    "sp.__version__"
   ]
  },
  {
   "cell_type": "code",
   "execution_count": 24,
   "metadata": {
    "collapsed": false
   },
   "outputs": [
    {
     "data": {
      "text/plain": [
       "array([  9.26666667e-01,  -8.97777778e-02,   9.51085714e+01,\n",
       "         8.56533333e+01])"
      ]
     },
     "execution_count": 24,
     "metadata": {},
     "output_type": "execute_result"
    }
   ],
   "source": [
    "lado_esquerdo = [[30, 30, 1, 0],\n",
    "                 [30, -30, 0, 1],\n",
    "                 [150, 30, 1, 0],\n",
    "                 [30, -150, 0, 1],\n",
    "                 [30, 90, 1, 0],\n",
    "                 [90, -30, 0, 1],\n",
    "                 [90, 90, 1, 0],\n",
    "                 [90, -90, 0, 1],\n",
    "                 [150, 90, 1, 0],\n",
    "                 [90, 150, 0, 1],\n",
    "                 [30, 150, 1, 0],\n",
    "                 [150, -30, 0, 1],\n",
    "                 [150, 150, 1, 0],\n",
    "                 [150, -150, 0, 1]]\n",
    "\n",
    "\n",
    "solucoes = [138,\n",
    "            95,\n",
    "            249,\n",
    "            140,\n",
    "            115,\n",
    "            150,\n",
    "            170,\n",
    "            174,\n",
    "            226,\n",
    "            196,\n",
    "            92,\n",
    "            206,\n",
    "            203,\n",
    "            252]\n",
    "\n",
    "\n",
    "final, bla, bla2, bla3 = np.linalg.lstsq(lado_esquerdo, solucoes)\n",
    "\n",
    "final"
   ]
  },
  {
   "cell_type": "code",
   "execution_count": 37,
   "metadata": {
    "collapsed": false
   },
   "outputs": [
    {
     "data": {
      "image/png": "[encoded data removed]",
      "text/latex": [
       "$$\\left ( -5.53368767323, \\quad 0.931005456748\\right )$$"
      ],
      "text/plain": [
       "(-5.53368767323, 0.931005456748)"
      ]
     },
     "execution_count": 37,
     "metadata": {},
     "output_type": "execute_result"
    }
   ],
   "source": [
    "a = final[0]\n",
    "b = final[1]\n",
    "tx = final[2]\n",
    "ty = final[3]\n",
    "\n",
    "\n",
    "theta = math.atan(b/a)\n",
    "scale = a / math.cos(theta)\n",
    "# O padrão do math é radianos, precisamos converter para graus\n",
    "theta = math.degrees(theta)\n",
    "\n",
    "theta, scale\n"
   ]
  },
  {
   "cell_type": "code",
   "execution_count": 39,
   "metadata": {
    "collapsed": false
   },
   "outputs": [
    {
     "data": {
      "text/plain": [
       "array([[  1.        ,   0.        ,  95.10857143],\n",
       "       [  0.        ,   1.        ,  85.65333333]])"
      ]
     },
     "execution_count": 39,
     "metadata": {},
     "output_type": "execute_result"
    }
   ],
   "source": [
    "matriz_translacao = np.array([[1, 0, tx], [0, 1, ty]])\n",
    "matriz_translacao"
   ]
  },
  {
   "cell_type": "code",
   "execution_count": 40,
   "metadata": {
    "collapsed": false
   },
   "outputs": [
    {
     "data": {
      "text/plain": [
       "array([[  9.26666667e-01,  -8.97777778e-02,   9.51085714e+01],\n",
       "       [  8.97777778e-02,   9.26666667e-01,   8.56533333e+01]])"
      ]
     },
     "execution_count": 40,
     "metadata": {},
     "output_type": "execute_result"
    }
   ],
   "source": [
    "matriz_final= np.array([[a, b, tx], [-b, a, ty]])\n",
    "matriz_final"
   ]
  },
  {
   "cell_type": "code",
   "execution_count": 42,
   "metadata": {
    "collapsed": false
   },
   "outputs": [
    {
     "ename": "TypeError",
     "evalue": "'tuple' object is not callable",
     "output_type": "error",
     "traceback": [
      "\u001b[1;31m---------------------------------------------------------------------------\u001b[0m",
      "\u001b[1;31mTypeError\u001b[0m                                 Traceback (most recent call last)",
      "\u001b[1;32m<ipython-input-42-cdb563ecda06>\u001b[0m in \u001b[0;36m<module>\u001b[1;34m()\u001b[0m\n\u001b[0;32m      5\u001b[0m \u001b[1;31m# plt.imshow(ajuste)\u001b[0m\u001b[1;33m\u001b[0m\u001b[1;33m\u001b[0m\u001b[0m\n\u001b[0;32m      6\u001b[0m \u001b[1;33m\u001b[0m\u001b[0m\n\u001b[1;32m----> 7\u001b[1;33m \u001b[0msaida\u001b[0m\u001b[1;33m.\u001b[0m\u001b[0mshape\u001b[0m\u001b[1;33m(\u001b[0m\u001b[1;33m)\u001b[0m\u001b[1;33m\u001b[0m\u001b[0m\n\u001b[0m",
      "\u001b[1;31mTypeError\u001b[0m: 'tuple' object is not callable"
     ]
    }
   ],
   "source": [
    "img = cv2.imread(\"patterns_transformed.png\")\n",
    "rows, cols = img.shape()\n",
    "\n",
    "ajuste = cv2.warpAffine(img, matriz_final, (cols, rows))\n",
    "\n",
    "plt.imshow(ajuste)\n"
   ]
  },
  {
   "cell_type": "code",
   "execution_count": null,
   "metadata": {
    "collapsed": true
   },
   "outputs": [],
   "source": []
  }
 ],
 "metadata": {
  "kernelspec": {
   "display_name": "Python 2",
   "language": "python",
   "name": "python2"
  },
  "language_info": {
   "codemirror_mode": {
    "name": "ipython",
    "version": 2
   },
   "file_extension": ".py",
   "mimetype": "text/x-python",
   "name": "python",
   "nbconvert_exporter": "python",
   "pygments_lexer": "ipython2",
   "version": "2.7.6"
  }
 },
 "nbformat": 4,
 "nbformat_minor": 0
}
