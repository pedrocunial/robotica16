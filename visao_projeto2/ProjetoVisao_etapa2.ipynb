{
 "cells": [
  {
   "cell_type": "markdown",
   "metadata": {},
   "source": [
    "# Projeto de Visão - parte 2"
   ]
  },
  {
   "cell_type": "markdown",
   "metadata": {},
   "source": [
    "Para prosseguir, você precisa ter a biblioteca VLFeat instalada em seu computador. Você pode usar tanto o Linux quanto o Anaconda\n",
    "\n",
    "[VLFeat](http://www.vlfeat.org/)\n",
    "\n",
    "Esta atividade é baseada no capítulo 4 do livro [Programming Computer Vision with Python](http://programmingcomputervision.com/)"
   ]
  },
  {
   "cell_type": "markdown",
   "metadata": {},
   "source": [
    "## Atividades:\n",
    "\n",
    "1. Estudo o ch4_ar_cube.py, veja o capítulo correspondente do Programming Computer Vision with Python\n",
    "\n",
    "2. Gere um arquivo de calibração de sua câmera (provavelmente a webcam de seu laptop). A seção 4.2 do livro explica como fazer\n",
    "    - Veja como fazer no livro. Você também pode configurar a câmera do seu smartphone como uma webcam (existem apps para isso)\n",
    "\n",
    "3. Adapte o ch4_ar_cube.py para usar imagens de sua webcam\n",
    "\n",
    "4. Imprima constantemente sua distância em relação a um marcador (coordenadas x, y e z) da câmera\n",
    "\n",
    "5. Defina um ponto no espaço como seu objetivo\n",
    "\n",
    "6. Imprima instruções sobre como se mover para chegar até o ponto objetivo. \n",
    "\n",
    "7. Quando a câmera estiver a menos de 0.5 m do objetivo, imprima \"você chegou!\""
   ]
  },
  {
   "cell_type": "code",
   "execution_count": null,
   "metadata": {
    "collapsed": true
   },
   "outputs": [],
   "source": []
  }
 ],
 "metadata": {
  "kernelspec": {
   "display_name": "Python 2",
   "language": "python",
   "name": "python2"
  },
  "language_info": {
   "codemirror_mode": {
    "name": "ipython",
    "version": 2
   },
   "file_extension": ".py",
   "mimetype": "text/x-python",
   "name": "python",
   "nbconvert_exporter": "python",
   "pygments_lexer": "ipython2",
   "version": "2.7.6"
  }
 },
 "nbformat": 4,
 "nbformat_minor": 0
}
