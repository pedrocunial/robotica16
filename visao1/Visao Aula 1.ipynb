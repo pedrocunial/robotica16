{
 "cells": [
  {
   "cell_type": "code",
   "execution_count": 3,
   "metadata": {
    "collapsed": false
   },
   "outputs": [],
   "source": [
    "import cv2"
   ]
  },
  {
   "cell_type": "code",
   "execution_count": 4,
   "metadata": {
    "collapsed": false
   },
   "outputs": [],
   "source": [
    "arara = cv2.imread(\"arara_medium.jpg\")"
   ]
  },
  {
   "cell_type": "code",
   "execution_count": 5,
   "metadata": {
    "collapsed": false
   },
   "outputs": [
    {
     "data": {
      "text/plain": [
       "array([[[  3,  17,   5],\n",
       "        [  3,  18,   4],\n",
       "        [  3,  18,   4],\n",
       "        ..., \n",
       "        [ 60,  94,  33],\n",
       "        [ 70,  98,  38],\n",
       "        [ 86, 111,  51]],\n",
       "\n",
       "       [[  2,  17,   3],\n",
       "        [  2,  17,   3],\n",
       "        [  2,  18,   1],\n",
       "        ..., \n",
       "        [ 61,  98,  34],\n",
       "        [ 66, 102,  36],\n",
       "        [ 75, 109,  44]],\n",
       "\n",
       "       [[  3,  19,   1],\n",
       "        [  3,  19,   1],\n",
       "        [  1,  20,   1],\n",
       "        ..., \n",
       "        [ 68, 106,  40],\n",
       "        [ 66, 107,  39],\n",
       "        [ 67, 112,  43]],\n",
       "\n",
       "       ..., \n",
       "       [[255, 254, 255],\n",
       "        [227, 227, 227],\n",
       "        [216, 218, 219],\n",
       "        ..., \n",
       "        [178, 185, 188],\n",
       "        [186, 194, 194],\n",
       "        [189, 197, 196]],\n",
       "\n",
       "       [[254, 250, 249],\n",
       "        [255, 255, 255],\n",
       "        [255, 255, 255],\n",
       "        ..., \n",
       "        [193, 194, 198],\n",
       "        [200, 202, 203],\n",
       "        [202, 204, 204]],\n",
       "\n",
       "       [[235, 230, 229],\n",
       "        [228, 226, 226],\n",
       "        [222, 220, 220],\n",
       "        ..., \n",
       "        [201, 197, 202],\n",
       "        [207, 204, 206],\n",
       "        [208, 206, 206]]], dtype=uint8)"
      ]
     },
     "execution_count": 5,
     "metadata": {},
     "output_type": "execute_result"
    }
   ],
   "source": [
    "arara"
   ]
  },
  {
   "cell_type": "code",
   "execution_count": null,
   "metadata": {
    "collapsed": false
   },
   "outputs": [],
   "source": []
  }
 ],
 "metadata": {
  "kernelspec": {
   "display_name": "Python 2",
   "language": "python",
   "name": "python2"
  },
  "language_info": {
   "codemirror_mode": {
    "name": "ipython",
    "version": 2
   },
   "file_extension": ".py",
   "mimetype": "text/x-python",
   "name": "python",
   "nbconvert_exporter": "python",
   "pygments_lexer": "ipython2",
   "version": "2.7.6"
  }
 },
 "nbformat": 4,
 "nbformat_minor": 0
}
