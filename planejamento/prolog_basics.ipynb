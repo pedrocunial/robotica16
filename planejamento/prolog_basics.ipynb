{
 "cells": [
  {
   "cell_type": "markdown",
   "metadata": {},
   "source": [
    "# PROLOG - introdução"
   ]
  },
  {
   "cell_type": "markdown",
   "metadata": {},
   "source": [
    "Referência: [Learn Prolog Now](http://www.learnprolognow.org/lpnpage.php?pagetype=html&pageid=lpn-htmlse1)\n",
    "\n",
    "### Base 1"
   ]
  },
  {
   "cell_type": "code",
   "execution_count": 17,
   "metadata": {
    "collapsed": false
   },
   "outputs": [
    {
     "name": "stdout",
     "output_type": "stream",
     "text": [
      "Rule added to database.\n",
      "Rule added to database.\n",
      "Rule added to database.\n",
      "Rule added to database.\n",
      "Rule added to database.\n"
     ]
    }
   ],
   "source": [
    "woman(mia). \n",
    "woman(jody). \n",
    "woman(yolanda). \n",
    "playsAirGuitar(jody). \n",
    "party.\n"
   ]
  },
  {
   "cell_type": "code",
   "execution_count": 18,
   "metadata": {
    "collapsed": false
   },
   "outputs": [
    {
     "name": "stdout",
     "output_type": "stream",
     "text": [
      "Use '%continue' for more results.\n"
     ]
    },
    {
     "data": {
      "text/plain": [
       "True"
      ]
     },
     "execution_count": 18,
     "metadata": {},
     "output_type": "execute_result"
    }
   ],
   "source": [
    "festa?"
   ]
  },
  {
   "cell_type": "code",
   "execution_count": 19,
   "metadata": {
    "collapsed": false
   },
   "outputs": [
    {
     "name": "stdout",
     "output_type": "stream",
     "text": [
      "Use '%continue' for more results.\n"
     ]
    },
    {
     "data": {
      "text/plain": [
       "True"
      ]
     },
     "execution_count": 19,
     "metadata": {},
     "output_type": "execute_result"
    }
   ],
   "source": [
    "woman(jody)?\n"
   ]
  },
  {
   "cell_type": "code",
   "execution_count": 20,
   "metadata": {
    "collapsed": false
   },
   "outputs": [
    {
     "name": "stdout",
     "output_type": "stream",
     "text": [
      "No more results.\n"
     ]
    }
   ],
   "source": [
    "toca_guitarra(X)?"
   ]
  },
  {
   "cell_type": "code",
   "execution_count": 21,
   "metadata": {
    "collapsed": false
   },
   "outputs": [
    {
     "name": "stdout",
     "output_type": "stream",
     "text": [
      "Rule added to database.\n"
     ]
    }
   ],
   "source": [
    "talented(X):-plays_guitar(X),woman(X)"
   ]
  },
  {
   "cell_type": "code",
   "execution_count": 22,
   "metadata": {
    "collapsed": false
   },
   "outputs": [
    {
     "name": "stdout",
     "output_type": "stream",
     "text": [
      "Rule added to database.\n"
     ]
    }
   ],
   "source": [
    "plays_guitar(marcos).\n"
   ]
  },
  {
   "cell_type": "code",
   "execution_count": 23,
   "metadata": {
    "collapsed": false
   },
   "outputs": [
    {
     "name": "stdout",
     "output_type": "stream",
     "text": [
      "Use '%continue' for more results.\n"
     ]
    },
    {
     "data": {
      "text/plain": [
       "{u'X': yolanda}"
      ]
     },
     "execution_count": 23,
     "metadata": {},
     "output_type": "execute_result"
    }
   ],
   "source": [
    "plays_guitar(X)?"
   ]
  },
  {
   "cell_type": "code",
   "execution_count": 24,
   "metadata": {
    "collapsed": false
   },
   "outputs": [
    {
     "name": "stdout",
     "output_type": "stream",
     "text": [
      "Use '%continue' for more results.\n"
     ]
    },
    {
     "data": {
      "text/plain": [
       "{u'X': marcos}"
      ]
     },
     "execution_count": 24,
     "metadata": {},
     "output_type": "execute_result"
    }
   ],
   "source": [
    "%continue"
   ]
  },
  {
   "cell_type": "code",
   "execution_count": 25,
   "metadata": {
    "collapsed": false
   },
   "outputs": [
    {
     "name": "stdout",
     "output_type": "stream",
     "text": [
      "Use '%continue' for more results.\n"
     ]
    },
    {
     "data": {
      "text/plain": [
       "{u'X': marcos}"
      ]
     },
     "execution_count": 25,
     "metadata": {},
     "output_type": "execute_result"
    }
   ],
   "source": [
    "%continue"
   ]
  },
  {
   "cell_type": "code",
   "execution_count": 26,
   "metadata": {
    "collapsed": false
   },
   "outputs": [
    {
     "name": "stderr",
     "output_type": "stream",
     "text": [
      "Unable to process query. Please restate.\n"
     ]
    }
   ],
   "source": [
    "talented(X)?"
   ]
  },
  {
   "cell_type": "code",
   "execution_count": 27,
   "metadata": {
    "collapsed": false
   },
   "outputs": [
    {
     "name": "stderr",
     "output_type": "stream",
     "text": [
      "Unable to process query. Please restate.\n"
     ]
    }
   ],
   "source": [
    "talented(Y)?"
   ]
  },
  {
   "cell_type": "code",
   "execution_count": 28,
   "metadata": {
    "collapsed": false
   },
   "outputs": [
    {
     "name": "stdout",
     "output_type": "stream",
     "text": [
      "No more results.\n"
     ]
    }
   ],
   "source": [
    "toca_guitarra(mia)?"
   ]
  },
  {
   "cell_type": "code",
   "execution_count": 29,
   "metadata": {
    "collapsed": false
   },
   "outputs": [
    {
     "name": "stdout",
     "output_type": "stream",
     "text": [
      "Use '%continue' for more results.\n"
     ]
    },
    {
     "data": {
      "text/plain": [
       "True"
      ]
     },
     "execution_count": 29,
     "metadata": {},
     "output_type": "execute_result"
    }
   ],
   "source": [
    "festa?"
   ]
  },
  {
   "cell_type": "markdown",
   "metadata": {},
   "source": [
    "## Base 2"
   ]
  },
  {
   "cell_type": "code",
   "execution_count": 30,
   "metadata": {
    "collapsed": false
   },
   "outputs": [
    {
     "name": "stdout",
     "output_type": "stream",
     "text": [
      "Rule added to database.\n",
      "Rule added to database.\n",
      "Rule added to database.\n",
      "Rule added to database.\n",
      "Rule added to database.\n"
     ]
    }
   ],
   "source": [
    "happy(yolanda). \n",
    "listens2Music(mia). \n",
    "listens2Music(yolanda):-  happy(yolanda). \n",
    "playsAirGuitar(mia):-  listens2Music(mia). \n",
    "playsAirGuitar(yolanda):-  listens2Music(yolanda)."
   ]
  },
  {
   "cell_type": "code",
   "execution_count": 31,
   "metadata": {
    "collapsed": false
   },
   "outputs": [
    {
     "name": "stdout",
     "output_type": "stream",
     "text": [
      "Use '%continue' for more results.\n"
     ]
    },
    {
     "data": {
      "text/plain": [
       "True"
      ]
     },
     "execution_count": 31,
     "metadata": {},
     "output_type": "execute_result"
    }
   ],
   "source": [
    "listens2Music(yolanda)?"
   ]
  },
  {
   "cell_type": "markdown",
   "metadata": {},
   "source": [
    "## Base 3"
   ]
  },
  {
   "cell_type": "code",
   "execution_count": 32,
   "metadata": {
    "collapsed": false
   },
   "outputs": [
    {
     "name": "stdout",
     "output_type": "stream",
     "text": [
      "Rule added to database.\n",
      "Rule added to database.\n",
      "Rule added to database.\n",
      "Rule added to database.\n",
      "Rule added to database.\n",
      "Rule added to database.\n",
      "Rule added to database.\n",
      "Rule added to database.\n",
      "Rule added to database.\n"
     ]
    }
   ],
   "source": [
    "happy(vincent). \n",
    "listens2Music(butch). \n",
    "playsAirGuitar(vincent):- \n",
    "     listens2Music(vincent), \n",
    "     happy(vincent). \n",
    "playsAirGuitar(butch):- \n",
    "     happy(butch). \n",
    "playsAirGuitar(butch):- \n",
    "     listens2Music(butch).\n"
   ]
  },
  {
   "cell_type": "markdown",
   "metadata": {},
   "source": [
    "## Base 4"
   ]
  },
  {
   "cell_type": "code",
   "execution_count": 33,
   "metadata": {
    "collapsed": false
   },
   "outputs": [
    {
     "name": "stdout",
     "output_type": "stream",
     "text": [
      "Rule added to database.\n",
      "Rule added to database.\n",
      "Rule added to database.\n",
      "Rule added to database.\n",
      "Rule added to database.\n",
      "Rule added to database.\n",
      "Rule added to database.\n"
     ]
    }
   ],
   "source": [
    "woman(mia). \n",
    "woman(jody). \n",
    "woman(yolanda). \n",
    "\n",
    "loves(vincent,mia). \n",
    "loves(marsellus,mia). \n",
    "loves(pumpkin,honey_bunny). \n",
    "loves(honey_bunny,pumpkin)."
   ]
  },
  {
   "cell_type": "markdown",
   "metadata": {},
   "source": [
    "## Átomos, variáveis, termos complexos"
   ]
  },
  {
   "cell_type": "markdown",
   "metadata": {},
   "source": [
    "## Fatos, regras, clauses (cláusulas) e predicados"
   ]
  },
  {
   "cell_type": "code",
   "execution_count": null,
   "metadata": {
    "collapsed": true
   },
   "outputs": [],
   "source": []
  },
  {
   "cell_type": "markdown",
   "metadata": {},
   "source": [
    "## Exercícios"
   ]
  },
  {
   "cell_type": "markdown",
   "metadata": {},
   "source": [
    "1. Dada a base:"
   ]
  },
  {
   "cell_type": "code",
   "execution_count": null,
   "metadata": {
    "collapsed": true
   },
   "outputs": [],
   "source": [
    "wizard(ron). \n",
    "hasWand(harry). \n",
    "quidditchPlayer(harry). \n",
    "wizard(X):-  hasBroom(X),  hasWand(X). \n",
    "hasBroom(X):-  quidditchPlayer(X)."
   ]
  },
  {
   "cell_type": "markdown",
   "metadata": {},
   "source": [
    "Como o PROLOG responde a estes queries?"
   ]
  },
  {
   "cell_type": "markdown",
   "metadata": {},
   "source": [
    "    wizard(ron).\n",
    "    witch(ron).\n",
    "    wizard(hermione).\n",
    "    witch(hermione).\n",
    "    wizard(harry).\n",
    "    wizard(Y).\n",
    "    witch(Y)."
   ]
  },
  {
   "cell_type": "markdown",
   "metadata": {},
   "source": []
  }
 ],
 "metadata": {
  "kernelspec": {
   "display_name": "Calysto Prolog",
   "language": "prolog",
   "name": "calysto_prolog"
  },
  "language_info": {
   "codemirror_mode": {
    "name": "prolog"
   },
   "mimetype": "text/x-prolog",
   "name": "prolog",
   "pygments_lexer": "prolog"
  }
 },
 "nbformat": 4,
 "nbformat_minor": 0
}
